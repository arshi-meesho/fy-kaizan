{
 "cells": [
  {
   "cell_type": "markdown",
   "metadata": {
    "application/vnd.databricks.v1+cell": {
     "cellMetadata": {
      "byteLimit": 2048000,
      "rowLimit": 10000
     },
     "inputWidgets": {},
     "nuid": "ac994931-7c62-48ad-887f-dbed6412ee1a",
     "showTitle": false,
     "tableResultSettingsMap": {},
     "title": ""
    }
   },
   "source": [
    "#Imports"
   ]
  },
  {
   "cell_type": "code",
   "execution_count": 0,
   "metadata": {
    "application/vnd.databricks.v1+cell": {
     "cellMetadata": {
      "byteLimit": 2048000,
      "rowLimit": 10000
     },
     "inputWidgets": {},
     "nuid": "5caabb60-dcc4-423c-843d-6908946459a5",
     "showTitle": false,
     "tableResultSettingsMap": {},
     "title": ""
    }
   },
   "outputs": [],
   "source": [
    "import pyspark.sql.functions as F\n",
    "import pyspark.sql.types as T\n",
    "from pyspark.sql.types import *\n",
    "from pyspark.sql.window import Window\n",
    "from pyspark.mllib.evaluation import RankingMetrics\n",
    "from datetime import datetime, timedelta"
   ]
  },
  {
   "cell_type": "markdown",
   "metadata": {
    "application/vnd.databricks.v1+cell": {
     "cellMetadata": {
      "byteLimit": 2048000,
      "rowLimit": 10000
     },
     "inputWidgets": {},
     "nuid": "8e0c6ffa-9c67-452b-a74a-99ee9fefcc70",
     "showTitle": false,
     "tableResultSettingsMap": {},
     "title": ""
    }
   },
   "source": [
    "# Configs"
   ]
  },
  {
   "cell_type": "code",
   "execution_count": 0,
   "metadata": {
    "application/vnd.databricks.v1+cell": {
     "cellMetadata": {
      "byteLimit": 2048000,
      "rowLimit": 10000
     },
     "inputWidgets": {},
     "nuid": "89b595aa-77b9-477c-b126-a30604ab3d3e",
     "showTitle": false,
     "tableResultSettingsMap": {},
     "title": ""
    }
   },
   "outputs": [
    {
     "output_type": "stream",
     "name": "stdout",
     "output_type": "stream",
     "text": [
      "2025-02-10 2025-02-16\n"
     ]
    }
   ],
   "source": [
    "start_datetime = datetime.today() - timedelta(days=datetime.today().weekday() + 7)\n",
    "end_datetime = start_datetime + timedelta(days=6)\n",
    "start_date = start_datetime.strftime('%Y-%m-%d')\n",
    "end_date = end_datetime.strftime('%Y-%m-%d')\n",
    "k = 20\n",
    "\n",
    "realestate = \"main\"\n",
    "print(start_date, end_date)"
   ]
  },
  {
   "cell_type": "markdown",
   "metadata": {
    "application/vnd.databricks.v1+cell": {
     "cellMetadata": {
      "byteLimit": 2048000,
      "rowLimit": 10000
     },
     "inputWidgets": {},
     "nuid": "133f1e0d-44ad-4a92-9e6b-1dd1f63eb968",
     "showTitle": false,
     "tableResultSettingsMap": {},
     "title": ""
    }
   },
   "source": [
    "#Functions"
   ]
  },
  {
   "cell_type": "code",
   "execution_count": 0,
   "metadata": {
    "application/vnd.databricks.v1+cell": {
     "cellMetadata": {
      "byteLimit": 2048000,
      "rowLimit": 10000
     },
     "inputWidgets": {},
     "nuid": "c89d9310-047e-4241-946f-20be2aefa934",
     "showTitle": false,
     "tableResultSettingsMap": {},
     "title": ""
    }
   },
   "outputs": [],
   "source": [
    "@F.udf(T.ArrayType(T.IntegerType()))\n",
    "def sorter_fn(l):\n",
    "    res = sorted(l, key=lambda x: x[\"catalog_position\"])\n",
    "    return [item['catalog_id'] for item in res]"
   ]
  },
  {
   "cell_type": "markdown",
   "metadata": {
    "application/vnd.databricks.v1+cell": {
     "cellMetadata": {
      "byteLimit": 2048000,
      "rowLimit": 10000
     },
     "inputWidgets": {},
     "nuid": "63939652-224e-406a-adaf-3c3badd41d65",
     "showTitle": false,
     "tableResultSettingsMap": {},
     "title": ""
    }
   },
   "source": [
    "#Raw Data"
   ]
  },
  {
   "cell_type": "code",
   "execution_count": 0,
   "metadata": {
    "application/vnd.databricks.v1+cell": {
     "cellMetadata": {
      "byteLimit": 2048000,
      "rowLimit": 10000
     },
     "inputWidgets": {},
     "nuid": "45bdf485-11cc-4657-9da1-2c69e0103338",
     "showTitle": false,
     "tableResultSettingsMap": {},
     "title": ""
    }
   },
   "outputs": [],
   "source": [
    "views_anonymous = spark.sql(f\"\"\" \n",
    "                            select concat(year, '-', month, '-',day) as date, cast(user_id as string), cast(catalog_id as int), catalog_position , session_id \n",
    "                            from silver.mixpanel_android__anonymous_catalog_views_report \n",
    "                            where concat(year, '-', month, '-',day) >= \"{start_date}\" and \n",
    "                            concat(year, '-', month, '-',day) <= \"{end_date}\" \n",
    "                            and origin = '{realestate}' \n",
    "                            and user_id is not null \n",
    "                            and catalog_id is not null \n",
    "                            and session_id is not null\n",
    "                        \"\"\")\n",
    "\n",
    "views_signed_up = spark.sql(\n",
    "                        f\"\"\"\n",
    "                            select concat(year, '-', month, '-',day) as date, cast(user_id as string), cast(catalog_id as int), catalog_position , session_id\n",
    "                            from silver.mixpanel_android__catalog_views_report_final\n",
    "                            where concat(year, '-', month, '-',day) >= \"{start_date}\" and \n",
    "                            concat(year, '-', month, '-',day) <= \"{end_date}\" and\n",
    "                            origin = '{realestate}' and \n",
    "                            user_id is not null and catalog_id is not null and session_id is not null\n",
    "                        \"\"\"\n",
    "                        )\n",
    "\n",
    "views_raw_data = views_signed_up.unionByName(views_anonymous).cache()\n",
    "\n",
    "preds = views_raw_data.filter(f\"catalog_position <= {k}\") \\\n",
    "            .groupBy('session_id', 'user_id') \\\n",
    "            .agg(F.collect_set(F.struct('catalog_id', 'catalog_position')).alias('preds')) \\\n",
    "            .withColumn('preds', sorter_fn('preds'))\n",
    "\n",
    "views_cdf_data = views_raw_data.groupBy('date', 'user_id', 'catalog_id') \\\n",
    "                            .agg(F.count('*').alias('views')).cache()"
   ]
  },
  {
   "cell_type": "code",
   "execution_count": 0,
   "metadata": {
    "application/vnd.databricks.v1+cell": {
     "cellMetadata": {
      "byteLimit": 2048000,
      "rowLimit": 10000
     },
     "inputWidgets": {},
     "nuid": "7e02324a-e077-4f0d-be34-ac928ad7baee",
     "showTitle": false,
     "tableResultSettingsMap": {},
     "title": ""
    }
   },
   "outputs": [],
   "source": [
    "clicks_anonymous = spark.sql(f\"\"\"\n",
    "        select\n",
    "         concat(year, '-', month, '-',day) as date,\n",
    "          session_id,\n",
    "          cast(user_id as string),\n",
    "          catalog_id,\n",
    "          count(*) as clicks\n",
    "        from\n",
    "          silver.mixpanel_android__anonymous_catalog_opened\n",
    "        where\n",
    "          concat(year, '-', month, '-',day) >= \"{start_date}\" and \n",
    "          concat(year, '-', month, '-',day) <= \"{end_date}\"\n",
    "          and origin = '{realestate}'\n",
    "          and user_id is not NULL\n",
    "          and catalog_id is not NULL\n",
    "          and session_id is not null\n",
    "          group by 1, 2, 3, 4\n",
    "    \"\"\")\n",
    "\n",
    "clicks_signep_up = spark.sql(f\"\"\"\n",
    "        select\n",
    "         concat(year, '-', month, '-',day) as date,\n",
    "          session_id,\n",
    "          cast(user_id as string),\n",
    "          catalog_id,\n",
    "          count(*) as clicks\n",
    "        from\n",
    "          silver.mixpanel_android__catalog_opened_main\n",
    "        where\n",
    "          concat(year, '-', month, '-',day) >= \"{start_date}\" and \n",
    "          concat(year, '-', month, '-',day) <= \"{end_date}\"\n",
    "          and origin = '{realestate}'\n",
    "          and user_id is not NULL\n",
    "          and catalog_id is not NULL\n",
    "          and session_id is not null\n",
    "          group by 1, 2, 3, 4\n",
    "    \"\"\")\n",
    "\n",
    "clicks_raw_data = clicks_signep_up.unionByName(clicks_anonymous).cache()\n",
    "  \n",
    "labels = clicks_raw_data.groupBy('session_id', 'user_id') \\\n",
    "            .agg(F.collect_set('catalog_id').alias('labels'))\n",
    "\n",
    "clicks_cdf_data = clicks_raw_data.groupBy('date', 'user_id', 'catalog_id') \\\n",
    "                            .agg(F.sum('clicks').alias('clicks')).cache()"
   ]
  },
  {
   "cell_type": "code",
   "execution_count": 0,
   "metadata": {
    "application/vnd.databricks.v1+cell": {
     "cellMetadata": {
      "byteLimit": 2048000,
      "rowLimit": 10000
     },
     "inputWidgets": {},
     "nuid": "1528981d-6b81-4245-b4e2-827c14afee05",
     "showTitle": false,
     "tableResultSettingsMap": {},
     "title": ""
    }
   },
   "outputs": [],
   "source": [
    "ranking_metrics_df = labels.join(preds,on=['session_id', 'user_id'],how=\"inner\").cache()"
   ]
  },
  {
   "cell_type": "code",
   "execution_count": 0,
   "metadata": {
    "application/vnd.databricks.v1+cell": {
     "cellMetadata": {
      "byteLimit": 2048000,
      "rowLimit": 10000
     },
     "inputWidgets": {},
     "nuid": "7c42f79c-6131-4727-a446-e857e37e334c",
     "showTitle": false,
     "tableResultSettingsMap": {},
     "title": ""
    }
   },
   "outputs": [],
   "source": [
    "scroll_depth_raw = spark.sql(\n",
    "f\"\"\"\n",
    "    select \n",
    "    concat(year, '-', month, '-',day) as date,\n",
    "    cast(user_id as string),\n",
    "    max(catalog_position) as scroll_depth\n",
    "    from gold.unique_signed_up_catalog_views_deduped\n",
    "    where concat(year, '-', month, '-',day) >= '{start_date}' and \n",
    "    concat(year, '-', month, '-',day) <= '{end_date}'\n",
    "    and origin = '{realestate}'\n",
    "    group by 1,2\n",
    "\"\"\").cache() "
   ]
  },
  {
   "cell_type": "code",
   "execution_count": 0,
   "metadata": {
    "application/vnd.databricks.v1+cell": {
     "cellMetadata": {
      "byteLimit": 2048000,
      "rowLimit": 10000
     },
     "inputWidgets": {},
     "nuid": "6ded5cd9-62bc-43ec-ae4f-b0dded1f9377",
     "showTitle": false,
     "tableResultSettingsMap": {},
     "title": ""
    }
   },
   "outputs": [],
   "source": [
    "catalog_price = spark.sql(f\"\"\"\n",
    "                            select dt as date, catalog_id, price\n",
    "                            from gold.pricing_ranking_attributes \n",
    "                            where dt >= '{start_date}' and dt <= '{end_date}'\n",
    "                    \"\"\")"
   ]
  },
  {
   "cell_type": "code",
   "execution_count": 0,
   "metadata": {
    "application/vnd.databricks.v1+cell": {
     "cellMetadata": {
      "byteLimit": 2048000,
      "rowLimit": 10000
     },
     "inputWidgets": {},
     "nuid": "17533724-12e4-4421-913a-4ebbb4527e41",
     "showTitle": false,
     "tableResultSettingsMap": {},
     "title": ""
    }
   },
   "outputs": [],
   "source": [
    "od_data = spark.sql(\n",
    "f\"\"\"\n",
    "    select cast(user_id as string), count(distinct omb.order_id) as od\n",
    "    from platinum.order_master_bi omb \n",
    "    where test=0 and verified=1 and omb.order_status in (4,6) and omb.order_date < '{start_date}'\n",
    "    group by user_id \n",
    "\"\"\"\n",
    ").cache()"
   ]
  },
  {
   "cell_type": "code",
   "execution_count": 0,
   "metadata": {
    "application/vnd.databricks.v1+cell": {
     "cellMetadata": {
      "byteLimit": 2048000,
      "rowLimit": 10000
     },
     "inputWidgets": {},
     "nuid": "99ba7dd7-116c-4ab8-ab20-bb22a47c40ad",
     "showTitle": false,
     "tableResultSettingsMap": {},
     "title": ""
    }
   },
   "outputs": [],
   "source": [
    "app_open_anonymous = spark.sql(f\"\"\"\n",
    "                        select distinct cast(distinct_id as string) as user_id , concat(year,'-',month,'-',day) as date\n",
    "                        from silver.mixpanel_android__anonymous_app_open_pre_signup\n",
    "                        where concat(year, '-', month, '-',day) >= '{start_date}' and \n",
    "                        concat(year, '-', month, '-',day) <= '{end_date}'\n",
    "                        and distinct_id is not null\n",
    "                    \"\"\")\n",
    "\n",
    "app_open_signed_up = spark.sql(f\"\"\"\n",
    "                        select distinct cast(user_id as string) , concat(year,'-',month,'-',day) as date\n",
    "                        from silver.mixpanel_android__app_open \n",
    "                        where concat(year, '-', month, '-',day) >= '{start_date}' and \n",
    "                        concat(year, '-', month, '-',day) <= '{end_date}'\n",
    "                        and user_id is not null\n",
    "                    \"\"\")\n",
    "\n",
    "app_open_raw_data = app_open_anonymous.unionByName(app_open_signed_up).cache()"
   ]
  },
  {
   "cell_type": "markdown",
   "metadata": {
    "application/vnd.databricks.v1+cell": {
     "cellMetadata": {
      "byteLimit": 2048000,
      "rowLimit": 10000
     },
     "inputWidgets": {},
     "nuid": "9c8eb0f9-68e0-4437-b815-0a935a4e27f2",
     "showTitle": false,
     "tableResultSettingsMap": {},
     "title": ""
    }
   },
   "source": [
    "# 22OD+ (Feed Only)"
   ]
  },
  {
   "cell_type": "code",
   "execution_count": 0,
   "metadata": {
    "application/vnd.databricks.v1+cell": {
     "cellMetadata": {
      "byteLimit": 2048000,
      "rowLimit": 10000
     },
     "inputWidgets": {},
     "nuid": "3efa2a77-55cd-4a61-bcc6-9dab1dce6281",
     "showTitle": false,
     "tableResultSettingsMap": {},
     "title": ""
    }
   },
   "outputs": [],
   "source": [
    "od_22_users = od_data.filter('od >= 22').select('user_id').cache()"
   ]
  },
  {
   "cell_type": "markdown",
   "metadata": {
    "application/vnd.databricks.v1+cell": {
     "cellMetadata": {
      "byteLimit": 2048000,
      "rowLimit": 10000
     },
     "inputWidgets": {},
     "nuid": "396a1dd1-9e09-489c-9c64-52c8764285d4",
     "showTitle": false,
     "tableResultSettingsMap": {},
     "title": ""
    }
   },
   "source": [
    "## 80 VC Clicks (Clicks CDF)![](![path](path))"
   ]
  },
  {
   "cell_type": "code",
   "execution_count": 0,
   "metadata": {
    "application/vnd.databricks.v1+cell": {
     "cellMetadata": {
      "byteLimit": 2048000,
      "rowLimit": 10000
     },
     "inputWidgets": {},
     "nuid": "df105503-a94f-401c-97c4-96587b84466f",
     "showTitle": false,
     "tableResultSettingsMap": {},
     "title": ""
    }
   },
   "outputs": [
    {
     "output_type": "stream",
     "name": "stdout",
     "output_type": "stream",
     "text": [
      "clicks_cdf_avg: 39500.42857142857\n"
     ]
    }
   ],
   "source": [
    "# Perform inner join on clicks_data and od_data on user_id\n",
    "clicks_data = clicks_cdf_data.join(od_22_users, on=\"user_id\", how=\"inner\")\n",
    "\n",
    "# Group by user_id and take sum of clicks\n",
    "clicks_data = clicks_data.groupBy(\"date\", \"catalog_id\").agg(F.sum(\"clicks\").alias(\"clicks\"))\n",
    "\n",
    "w = Window.partitionBy(\"date\").orderBy(F.col(\"clicks\").desc()).rowsBetween(Window.unboundedPreceding, Window.currentRow)\n",
    "\n",
    "clicks_data = clicks_data.withColumn(\"cf_sum\", F.sum(\"clicks\").over(w))\n",
    "\n",
    "total_clicks = clicks_data.groupBy('date') \\\n",
    "                        .agg(F.sum(\"clicks\").alias('total_clicks'))\n",
    "\n",
    "clicks_data = clicks_data.join(total_clicks, on=\"date\", how=\"inner\") \\\n",
    "                    .withColumn(\"cf_perc\", F.col(\"cf_sum\")/F.col(\"total_clicks\"))\n",
    "\n",
    "clicks_cdf = clicks_data.filter(\"cf_perc <= 0.8\") \\\n",
    "                .groupBy(\"date\") \\\n",
    "                .agg(F.count('catalog_id').alias('clicks_cdf'))\n",
    "\n",
    "clicks_cdf_avg = clicks_cdf.agg(F.avg('clicks_cdf').alias('avg_clicks_cdf')).collect()[0][0]\n",
    "\n",
    "print(\"clicks_cdf_avg:\", clicks_cdf_avg)"
   ]
  },
  {
   "cell_type": "markdown",
   "metadata": {
    "application/vnd.databricks.v1+cell": {
     "cellMetadata": {
      "byteLimit": 2048000,
      "rowLimit": 10000
     },
     "inputWidgets": {},
     "nuid": "205e7874-e28a-4dc0-9e19-d5c4e380b4bb",
     "showTitle": false,
     "tableResultSettingsMap": {},
     "title": ""
    }
   },
   "source": [
    "## 80 VC Views (Views CDF)\n"
   ]
  },
  {
   "cell_type": "code",
   "execution_count": 0,
   "metadata": {
    "application/vnd.databricks.v1+cell": {
     "cellMetadata": {
      "byteLimit": 2048000,
      "rowLimit": 10000
     },
     "inputWidgets": {},
     "nuid": "082310c5-c0d0-44dd-95cf-ac2271eb1f1a",
     "showTitle": false,
     "tableResultSettingsMap": {},
     "title": ""
    }
   },
   "outputs": [
    {
     "output_type": "stream",
     "name": "stdout",
     "output_type": "stream",
     "text": [
      "views_cdf_avg: 42717.57142857143\n"
     ]
    }
   ],
   "source": [
    "views_data = views_cdf_data.join(od_22_users, on=\"user_id\", how=\"inner\")\n",
    "\n",
    "# Group by user_id and take sum of views\n",
    "views_data = views_data.groupBy(\"date\", \"catalog_id\").agg(F.sum(\"views\").alias(\"views\"))\n",
    "\n",
    "w = Window.partitionBy(\"date\").orderBy(F.col(\"views\").desc()).rowsBetween(Window.unboundedPreceding, Window.currentRow)\n",
    "\n",
    "views_data = views_data.withColumn(\"cf_sum\", F.sum(\"views\").over(w))\n",
    "\n",
    "total_views = views_data.groupBy('date') \\\n",
    "                        .agg(F.sum(\"views\").alias('total_views'))\n",
    "\n",
    "views_data = views_data.join(total_views, on=\"date\", how=\"inner\") \\\n",
    "                    .withColumn(\"cf_perc\", F.col(\"cf_sum\")/F.col(\"total_views\"))\n",
    "\n",
    "views_cdf = views_data.filter(\"cf_perc <= 0.8\") \\\n",
    "                .groupBy(\"date\") \\\n",
    "                .agg(F.count('catalog_id').alias('views_cdf'))\n",
    "\n",
    "views_cdf_avg = views_cdf.agg(F.avg('views_cdf').alias('avg_views_cdf')).collect()[0][0]\n",
    "\n",
    "print(\"views_cdf_avg:\", views_cdf_avg)"
   ]
  },
  {
   "cell_type": "markdown",
   "metadata": {
    "application/vnd.databricks.v1+cell": {
     "cellMetadata": {
      "byteLimit": 2048000,
      "rowLimit": 10000
     },
     "inputWidgets": {},
     "nuid": "7e12359c-2477-42e4-bea1-dad13b34b2ef",
     "showTitle": false,
     "tableResultSettingsMap": {},
     "title": ""
    }
   },
   "source": [
    "## Scroll Depth\n"
   ]
  },
  {
   "cell_type": "code",
   "execution_count": 0,
   "metadata": {
    "application/vnd.databricks.v1+cell": {
     "cellMetadata": {
      "byteLimit": 2048000,
      "rowLimit": 10000
     },
     "inputWidgets": {},
     "nuid": "11ebd6af-d9bc-4608-b985-789a744aeeef",
     "showTitle": false,
     "tableResultSettingsMap": {},
     "title": ""
    }
   },
   "outputs": [
    {
     "output_type": "stream",
     "name": "stdout",
     "output_type": "stream",
     "text": [
      "scroll_depth: 81.32749970830149\n"
     ]
    }
   ],
   "source": [
    "scroll_depth = scroll_depth_raw.join(od_22_users, on=\"user_id\", how=\"inner\").drop(\"od\")\n",
    "scroll_depth = scroll_depth.select(F.avg('scroll_depth').alias('avg_scroll_depth'))\n",
    "sd = scroll_depth.select(\"avg_scroll_depth\").collect()[0][0]\n",
    "print(\"scroll_depth:\", sd)"
   ]
  },
  {
   "cell_type": "markdown",
   "metadata": {
    "application/vnd.databricks.v1+cell": {
     "cellMetadata": {
      "byteLimit": 2048000,
      "rowLimit": 10000
     },
     "inputWidgets": {},
     "nuid": "4280d609-acc4-48e5-a0a5-7b2c31f096c9",
     "showTitle": false,
     "tableResultSettingsMap": {},
     "title": ""
    }
   },
   "source": [
    "## % of Users with atleast 1 FY Clicks\n"
   ]
  },
  {
   "cell_type": "code",
   "execution_count": 0,
   "metadata": {
    "application/vnd.databricks.v1+cell": {
     "cellMetadata": {},
     "inputWidgets": {},
     "nuid": "36fe16b1-fef6-46b4-bea1-6ec8671628d0",
     "showTitle": false,
     "tableResultSettingsMap": {},
     "title": ""
    }
   },
   "outputs": [],
   "source": [
    "clicks_data = clicks_cdf_data.join(od_22_users, on=\"user_id\", how=\"inner\")\n",
    "app_open_data = app_open_raw_data.join(od_22_users, on=\"user_id\", how=\"inner\")\n",
    "\n",
    "num_users_with_fy_clicks = clicks_data.groupBy(\"date\").agg(F.countDistinct(\"user_id\").alias(\"num_users_with_fy_clicks\"))\n",
    "\n",
    "dau = app_open_data.groupBy(\"date\").agg(F.countDistinct(\"user_id\").alias(\"dau\"))\n",
    "\n",
    "perct_users_with_fy_clicks = num_users_with_fy_clicks.join(dau, ['date'], 'inner') \\\n",
    "                                               .withColumn(\"perct_users_with_fy_clicks\", F.col(\"num_users_with_fy_clicks\")/F.col(\"dau\"))\n",
    "\n",
    "# perct_users_with_fy_clicks.display()\n",
    "\n",
    "perct_users_with_fy_clicks = perct_users_with_fy_clicks.agg(F.avg(\"perct_users_with_fy_clicks\").alias(\"perct_users_with_fy_clicks\")).collect()[0][0]\n",
    "\n",
    "print(\"perct_users_with_fy_clicks:\" ,perct_users_with_fy_clicks)"
   ]
  },
  {
   "cell_type": "markdown",
   "metadata": {
    "application/vnd.databricks.v1+cell": {
     "cellMetadata": {
      "byteLimit": 2048000,
      "rowLimit": 10000
     },
     "inputWidgets": {},
     "nuid": "4de402a6-01bd-4c34-9251-e98c9635b438",
     "showTitle": false,
     "tableResultSettingsMap": {},
     "title": ""
    }
   },
   "source": [
    "## Ranking Metrics\n"
   ]
  },
  {
   "cell_type": "code",
   "execution_count": 0,
   "metadata": {
    "application/vnd.databricks.v1+cell": {
     "cellMetadata": {
      "byteLimit": 2048000,
      "rowLimit": 10000
     },
     "inputWidgets": {},
     "nuid": "fc614df4-86f6-4b35-9d07-d85506a2ea31",
     "showTitle": false,
     "tableResultSettingsMap": {},
     "title": ""
    }
   },
   "outputs": [
    {
     "output_type": "stream",
     "name": "stderr",
     "output_type": "stream",
     "text": [
      "/databricks/spark/python/pyspark/sql/context.py:165: FutureWarning: Deprecated in 3.0.0. Use SparkSession.builder.getOrCreate() instead.\n  warnings.warn(\n"
     ]
    },
    {
     "output_type": "stream",
     "name": "stdout",
     "output_type": "stream",
     "text": [
      "recall: 0.4205636996184287\nndcg: 0.20336934520315592\n"
     ]
    }
   ],
   "source": [
    "ans = ranking_metrics_df.join(od_22_users, 'user_id') \\\n",
    "        .select(\"preds\", \"labels\") \\\n",
    "        .rdd\n",
    "\n",
    "metrics = RankingMetrics(ans)\n",
    "\n",
    "recall = metrics.recallAt(20)\n",
    "print(\"recall:\", recall)\n",
    "\n",
    "ndcg = metrics.ndcgAt(20)\n",
    "print(\"ndcg:\", ndcg)"
   ]
  },
  {
   "cell_type": "code",
   "execution_count": 0,
   "metadata": {
    "application/vnd.databricks.v1+cell": {
     "cellMetadata": {
      "byteLimit": 2048000,
      "rowLimit": 10000
     },
     "inputWidgets": {},
     "nuid": "02c77408-bb9e-4cbe-aa58-3780a35765cf",
     "showTitle": false,
     "tableResultSettingsMap": {},
     "title": ""
    }
   },
   "outputs": [
    {
     "output_type": "execute_result",
     "data": {
      "text/plain": [
       "DataFrame[user_id: bigint]"
      ]
     },
     "execution_count": 82,
     "metadata": {},
     "output_type": "execute_result"
    }
   ],
   "source": [
    "od_22_users.unpersist()"
   ]
  },
  {
   "cell_type": "code",
   "execution_count": 0,
   "metadata": {
    "application/vnd.databricks.v1+cell": {
     "cellMetadata": {
      "byteLimit": 2048000,
      "rowLimit": 10000
     },
     "inputWidgets": {},
     "nuid": "80f8c474-3442-4708-aabd-dbfef6507dd4",
     "showTitle": false,
     "tableResultSettingsMap": {},
     "title": ""
    }
   },
   "outputs": [
    {
     "output_type": "display_data",
     "data": {
      "text/html": [
       "<style scoped>\n",
       "  .table-result-container {\n",
       "    max-height: 300px;\n",
       "    overflow: auto;\n",
       "  }\n",
       "  table, th, td {\n",
       "    border: 1px solid black;\n",
       "    border-collapse: collapse;\n",
       "  }\n",
       "  th, td {\n",
       "    padding: 5px;\n",
       "  }\n",
       "  th {\n",
       "    text-align: left;\n",
       "  }\n",
       "</style><div class='table-result-container'><table class='table-result'><thead style='background-color: white'><tr><th>real_estate</th><th>metrics_dict</th><th>start_date</th><th>end_date</th><th>start_datetime</th><th>end_datetime</th></tr></thead><tbody><tr><td>FY 22OD+</td><td>Map(ndcg@k -> 0.20336934520315592, clicks_cdf -> 39500.42857142857, num_users_with_fy_clicks -> 2491794.714285714, recall@k -> 0.4205636996184287, avg_scroll_depth -> 81.32749970830149, views_cdf -> 42717.57142857143)</td><td>2025-02-03</td><td>2025-02-09</td><td>2025-02-03T17:35:54.835102+05:30</td><td>2025-02-09T17:35:54.835102+05:30</td></tr></tbody></table></div>"
      ]
     },
     "metadata": {
      "application/vnd.databricks.v1+output": {
       "addedWidgets": {},
       "aggData": [],
       "aggError": "",
       "aggOverflow": false,
       "aggSchema": [],
       "aggSeriesLimitReached": false,
       "aggType": "",
       "arguments": {},
       "columnCustomDisplayInfos": {},
       "data": [
        [
         "FY 22OD+",
         {
          "avg_scroll_depth": "81.32749970830149",
          "clicks_cdf": "39500.42857142857",
          "ndcg@k": "0.20336934520315592",
          "num_users_with_fy_clicks": "2491794.714285714",
          "recall@k": "0.4205636996184287",
          "views_cdf": "42717.57142857143"
         },
         "2025-02-03",
         "2025-02-09",
         "2025-02-03T17:35:54.835102+05:30",
         "2025-02-09T17:35:54.835102+05:30"
        ]
       ],
       "datasetInfos": [],
       "dbfsResultPath": null,
       "isJsonSchema": true,
       "metadata": {},
       "overflow": false,
       "plotOptions": {
        "customPlotOptions": {},
        "displayType": "table",
        "pivotAggregation": null,
        "pivotColumns": null,
        "xColumns": null,
        "yColumns": null
       },
       "removedWidgets": [],
       "schema": [
        {
         "metadata": "{}",
         "name": "real_estate",
         "type": "\"string\""
        },
        {
         "metadata": "{}",
         "name": "metrics_dict",
         "type": "{\"type\":\"map\",\"keyType\":\"string\",\"valueType\":\"string\",\"valueContainsNull\":true}"
        },
        {
         "metadata": "{}",
         "name": "start_date",
         "type": "\"string\""
        },
        {
         "metadata": "{}",
         "name": "end_date",
         "type": "\"string\""
        },
        {
         "metadata": "{}",
         "name": "start_datetime",
         "type": "\"timestamp\""
        },
        {
         "metadata": "{}",
         "name": "end_datetime",
         "type": "\"timestamp\""
        }
       ],
       "type": "table"
      }
     },
     "output_type": "display_data"
    }
   ],
   "source": [
    "metrics1 = dict()\n",
    "metrics1[\"clicks_cdf\"] = clicks_cdf_avg\n",
    "metrics1[\"views_cdf\"] = views_cdf_avg\n",
    "metrics1[\"avg_scroll_depth\"] = sd\n",
    "metrics1[\"perct_users_with_fy_clicks\"] = perct_users_with_fy_clicks\n",
    "metrics1[f\"ndcg@k\"] = ndcg\n",
    "metrics1[f\"recall@k\"] = recall\n",
    "# metrics1[\"k\"] = k\n",
    "\n",
    "metrics1 = {k: str(v) for k, v in metrics1.items()}\n",
    "\n",
    "# COMMAND ----------\n",
    "\n",
    "table_schema = StructType([\n",
    "    StructField(\"real_estate\", StringType(), False),\n",
    "    StructField(\"metrics_dict\", MapType(StringType(), StringType()), False),\n",
    "    StructField(\"start_date\", StringType(), False),\n",
    "    StructField(\"end_date\", StringType(), False),\n",
    "    StructField(\"start_datetime\", TimestampType(), False),\n",
    "    StructField(\"end_datetime\", TimestampType(), False),\n",
    "    ])\n",
    "df1 = spark.createDataFrame([['FY 22OD+', metrics1, start_date, end_date, start_datetime, end_datetime]], table_schema)\n",
    "\n",
    "df1.display()\n",
    "\n",
    "# df.write.mode(\"append\").saveAsTable(\"ds_silver_exp.prod_kaizen_re_metrics_full\")"
   ]
  },
  {
   "cell_type": "markdown",
   "metadata": {
    "application/vnd.databricks.v1+cell": {
     "cellMetadata": {
      "byteLimit": 2048000,
      "rowLimit": 10000
     },
     "inputWidgets": {},
     "nuid": "2f2e0b94-2f42-453e-9276-0b547a93a4d2",
     "showTitle": false,
     "tableResultSettingsMap": {},
     "title": ""
    }
   },
   "source": [
    "# < 22OD (FY+Homepage Only)\n"
   ]
  },
  {
   "cell_type": "code",
   "execution_count": 0,
   "metadata": {
    "application/vnd.databricks.v1+cell": {
     "cellMetadata": {
      "byteLimit": 2048000,
      "rowLimit": 10000
     },
     "inputWidgets": {},
     "nuid": "5029d788-846d-4202-8f51-b80d2a032377",
     "showTitle": false,
     "tableResultSettingsMap": {},
     "title": ""
    }
   },
   "outputs": [],
   "source": [
    "od_lt_22_users = od_data.filter('od < 22').select('user_id').cache()"
   ]
  },
  {
   "cell_type": "markdown",
   "metadata": {
    "application/vnd.databricks.v1+cell": {
     "cellMetadata": {
      "byteLimit": 2048000,
      "rowLimit": 10000
     },
     "inputWidgets": {},
     "nuid": "6309e046-8d4c-4069-bd9a-b098e8a303fa",
     "showTitle": false,
     "tableResultSettingsMap": {},
     "title": ""
    }
   },
   "source": [
    "## 80 VC Clicks (Clicks CDF)\n"
   ]
  },
  {
   "cell_type": "code",
   "execution_count": 0,
   "metadata": {
    "application/vnd.databricks.v1+cell": {
     "cellMetadata": {
      "byteLimit": 2048000,
      "rowLimit": 10000
     },
     "inputWidgets": {},
     "nuid": "16227049-a22c-4d00-86c1-b7f103adb2ef",
     "showTitle": false,
     "tableResultSettingsMap": {},
     "title": ""
    }
   },
   "outputs": [
    {
     "output_type": "stream",
     "name": "stdout",
     "output_type": "stream",
     "text": [
      "clicks_cdf_avg: 42933.28571428572\n"
     ]
    }
   ],
   "source": [
    "# Perform inner join on clicks_data and od_data on user_id\n",
    "clicks_data = clicks_cdf_data.join(od_lt_22_users, on=\"user_id\", how=\"inner\")\n",
    "\n",
    "# Group by user_id and take sum of clicks\n",
    "clicks_data = clicks_data.groupBy(\"date\", \"catalog_id\").agg(F.sum(\"clicks\").alias(\"clicks\"))\n",
    "\n",
    "w = Window.partitionBy(\"date\").orderBy(F.col(\"clicks\").desc()).rowsBetween(Window.unboundedPreceding, Window.currentRow)\n",
    "\n",
    "clicks_data = clicks_data.withColumn(\"cf_sum\", F.sum(\"clicks\").over(w))\n",
    "\n",
    "total_clicks = clicks_data.groupBy('date') \\\n",
    "                        .agg(F.sum(\"clicks\").alias('total_clicks'))\n",
    "\n",
    "clicks_data = clicks_data.join(total_clicks, on=\"date\", how=\"inner\") \\\n",
    "                    .withColumn(\"cf_perc\", F.col(\"cf_sum\")/F.col(\"total_clicks\"))\n",
    "\n",
    "clicks_cdf = clicks_data.filter(\"cf_perc <= 0.8\") \\\n",
    "                .groupBy(\"date\") \\\n",
    "                .agg(F.count('catalog_id').alias('clicks_cdf'))\n",
    "\n",
    "clicks_cdf_avg = clicks_cdf.agg(F.avg('clicks_cdf').alias('avg_clicks_cdf')).collect()[0][0]\n",
    "\n",
    "print(\"clicks_cdf_avg:\", clicks_cdf_avg)"
   ]
  },
  {
   "cell_type": "markdown",
   "metadata": {
    "application/vnd.databricks.v1+cell": {
     "cellMetadata": {
      "byteLimit": 2048000,
      "rowLimit": 10000
     },
     "inputWidgets": {},
     "nuid": "d043fba4-6748-428f-82dd-c8b51498890c",
     "showTitle": false,
     "tableResultSettingsMap": {},
     "title": ""
    }
   },
   "source": [
    "## 80 VC Views (Views CDF)\n"
   ]
  },
  {
   "cell_type": "code",
   "execution_count": 0,
   "metadata": {
    "application/vnd.databricks.v1+cell": {
     "cellMetadata": {
      "byteLimit": 2048000,
      "rowLimit": 10000
     },
     "inputWidgets": {},
     "nuid": "ad59fde1-83b3-4f20-a928-96560b73e916",
     "showTitle": false,
     "tableResultSettingsMap": {},
     "title": ""
    }
   },
   "outputs": [
    {
     "output_type": "stream",
     "name": "stdout",
     "output_type": "stream",
     "text": [
      "views_cdf_avg: 45920.857142857145\n"
     ]
    }
   ],
   "source": [
    "views_data = views_cdf_data.join(od_lt_22_users, on=\"user_id\", how=\"inner\")\n",
    "\n",
    "# Group by user_id and take sum of views\n",
    "views_data = views_data.groupBy(\"date\", \"catalog_id\").agg(F.sum(\"views\").alias(\"views\"))\n",
    "\n",
    "w = Window.partitionBy(\"date\").orderBy(F.col(\"views\").desc()).rowsBetween(Window.unboundedPreceding, Window.currentRow)\n",
    "\n",
    "views_data = views_data.withColumn(\"cf_sum\", F.sum(\"views\").over(w))\n",
    "\n",
    "total_views = views_data.groupBy('date') \\\n",
    "                        .agg(F.sum(\"views\").alias('total_views'))\n",
    "\n",
    "views_data = views_data.join(total_views, on=\"date\", how=\"inner\") \\\n",
    "                    .withColumn(\"cf_perc\", F.col(\"cf_sum\")/F.col(\"total_views\"))\n",
    "\n",
    "views_cdf = views_data.filter(\"cf_perc <= 0.8\") \\\n",
    "                .groupBy(\"date\") \\\n",
    "                .agg(F.count('catalog_id').alias('views_cdf'))\n",
    "\n",
    "views_cdf_avg = views_cdf.agg(F.avg('views_cdf').alias('avg_views_cdf')).collect()[0][0]\n",
    "\n",
    "print(\"views_cdf_avg:\", views_cdf_avg)"
   ]
  },
  {
   "cell_type": "markdown",
   "metadata": {
    "application/vnd.databricks.v1+cell": {
     "cellMetadata": {
      "byteLimit": 2048000,
      "rowLimit": 10000
     },
     "inputWidgets": {},
     "nuid": "73a0bff2-772a-4c5f-b150-bdf7cb19f873",
     "showTitle": false,
     "tableResultSettingsMap": {},
     "title": ""
    }
   },
   "source": [
    "## Scroll Depth"
   ]
  },
  {
   "cell_type": "code",
   "execution_count": 0,
   "metadata": {
    "application/vnd.databricks.v1+cell": {
     "cellMetadata": {
      "byteLimit": 2048000,
      "rowLimit": 10000
     },
     "inputWidgets": {},
     "nuid": "7ede6218-a5e2-4d62-bc07-fe9a21e2b2ea",
     "showTitle": false,
     "tableResultSettingsMap": {},
     "title": ""
    }
   },
   "outputs": [
    {
     "output_type": "stream",
     "name": "stdout",
     "output_type": "stream",
     "text": [
      "scroll_depth: 82.71419130081183\n"
     ]
    }
   ],
   "source": [
    "scroll_depth = scroll_depth_raw.join(od_lt_22_users, on=\"user_id\", how=\"inner\").drop(\"od\")\n",
    "scroll_depth = scroll_depth.select(F.avg('scroll_depth').alias('avg_scroll_depth'))\n",
    "sd = scroll_depth.select(\"avg_scroll_depth\").collect()[0][0]\n",
    "print(\"scroll_depth:\", sd)"
   ]
  },
  {
   "cell_type": "markdown",
   "metadata": {
    "application/vnd.databricks.v1+cell": {
     "cellMetadata": {
      "byteLimit": 2048000,
      "rowLimit": 10000
     },
     "inputWidgets": {},
     "nuid": "8e17eab6-8af6-4d56-8a93-292690df4cc3",
     "showTitle": false,
     "tableResultSettingsMap": {},
     "title": ""
    }
   },
   "source": [
    "## % of Users with atleast 1 FY Clicks\n",
    "## "
   ]
  },
  {
   "cell_type": "code",
   "execution_count": 0,
   "metadata": {
    "application/vnd.databricks.v1+cell": {
     "cellMetadata": {},
     "inputWidgets": {},
     "nuid": "577ee9ad-5b96-4ad1-9a4d-edcf7a7cc4cd",
     "showTitle": false,
     "tableResultSettingsMap": {},
     "title": ""
    }
   },
   "outputs": [],
   "source": [
    "clicks_data = clicks_cdf_data.join(od_lt_22_users, on=\"user_id\", how=\"inner\")\n",
    "app_open_data = app_open_raw_data.join(od_lt_22_users, on=\"user_id\", how=\"inner\")\n",
    "\n",
    "num_users_with_fy_clicks = clicks_data.groupBy(\"date\").agg(F.countDistinct(\"user_id\").alias(\"num_users_with_fy_clicks\"))\n",
    "\n",
    "dau = app_open_data.groupBy(\"date\").agg(F.countDistinct(\"user_id\").alias(\"dau\"))\n",
    "\n",
    "perct_users_with_fy_clicks = num_users_with_fy_clicks.join(dau, ['date'], 'inner') \\\n",
    "                                               .withColumn(\"perct_users_with_fy_clicks\", F.col(\"num_users_with_fy_clicks\")/F.col(\"dau\"))\n",
    "\n",
    "# perct_users_with_fy_clicks.display()\n",
    "\n",
    "perct_users_with_fy_clicks = perct_users_with_fy_clicks.agg(F.avg(\"perct_users_with_fy_clicks\").alias(\"perct_users_with_fy_clicks\")).collect()[0][0]\n",
    "\n",
    "print(\"perct_users_with_fy_clicks:\" ,perct_users_with_fy_clicks)"
   ]
  },
  {
   "cell_type": "markdown",
   "metadata": {
    "application/vnd.databricks.v1+cell": {
     "cellMetadata": {
      "byteLimit": 2048000,
      "rowLimit": 10000
     },
     "inputWidgets": {},
     "nuid": "112b7606-b04b-49a9-8445-bb919dc03fba",
     "showTitle": false,
     "tableResultSettingsMap": {},
     "title": ""
    }
   },
   "source": [
    "## Clicks nDCG @ 20"
   ]
  },
  {
   "cell_type": "code",
   "execution_count": 0,
   "metadata": {
    "application/vnd.databricks.v1+cell": {
     "cellMetadata": {
      "byteLimit": 2048000,
      "rowLimit": 10000
     },
     "inputWidgets": {},
     "nuid": "94e5fa30-78dc-4352-880d-a5a0ffc62f8f",
     "showTitle": false,
     "tableResultSettingsMap": {},
     "title": ""
    }
   },
   "outputs": [
    {
     "output_type": "stream",
     "name": "stderr",
     "output_type": "stream",
     "text": [
      "/databricks/spark/python/pyspark/sql/context.py:165: FutureWarning: Deprecated in 3.0.0. Use SparkSession.builder.getOrCreate() instead.\n  warnings.warn(\n"
     ]
    },
    {
     "output_type": "stream",
     "name": "stdout",
     "output_type": "stream",
     "text": [
      "recall: 0.3912459735184172\nndcg: 0.17926070590589915\n"
     ]
    }
   ],
   "source": [
    "ans = ranking_metrics_df.join(od_lt_22_users, 'user_id') \\\n",
    "        .select(\"preds\", \"labels\") \\\n",
    "        .rdd\n",
    "metrics = RankingMetrics(ans)\n",
    "\n",
    "recall = metrics.recallAt(20)\n",
    "print(\"recall:\", recall)\n",
    "\n",
    "ndcg = metrics.ndcgAt(20)\n",
    "print(\"ndcg:\", ndcg)"
   ]
  },
  {
   "cell_type": "code",
   "execution_count": 0,
   "metadata": {
    "application/vnd.databricks.v1+cell": {
     "cellMetadata": {
      "byteLimit": 2048000,
      "rowLimit": 10000
     },
     "inputWidgets": {},
     "nuid": "74cbbfd1-36c5-43cd-aa00-2121a148649a",
     "showTitle": false,
     "tableResultSettingsMap": {},
     "title": ""
    }
   },
   "outputs": [
    {
     "output_type": "execute_result",
     "data": {
      "text/plain": [
       "DataFrame[user_id: bigint]"
      ]
     },
     "execution_count": 98,
     "metadata": {},
     "output_type": "execute_result"
    }
   ],
   "source": [
    "od_lt_22_users.unpersist()"
   ]
  },
  {
   "cell_type": "code",
   "execution_count": 0,
   "metadata": {
    "application/vnd.databricks.v1+cell": {
     "cellMetadata": {
      "byteLimit": 2048000,
      "rowLimit": 10000
     },
     "inputWidgets": {},
     "nuid": "6c136fbe-67d5-4be0-af27-1b5682d6c110",
     "showTitle": false,
     "tableResultSettingsMap": {},
     "title": ""
    }
   },
   "outputs": [
    {
     "output_type": "display_data",
     "data": {
      "text/html": [
       "<style scoped>\n",
       "  .table-result-container {\n",
       "    max-height: 300px;\n",
       "    overflow: auto;\n",
       "  }\n",
       "  table, th, td {\n",
       "    border: 1px solid black;\n",
       "    border-collapse: collapse;\n",
       "  }\n",
       "  th, td {\n",
       "    padding: 5px;\n",
       "  }\n",
       "  th {\n",
       "    text-align: left;\n",
       "  }\n",
       "</style><div class='table-result-container'><table class='table-result'><thead style='background-color: white'><tr><th>real_estate</th><th>metrics_dict</th><th>start_date</th><th>end_date</th><th>start_datetime</th><th>end_datetime</th></tr></thead><tbody><tr><td>FY < 22OD</td><td>Map(ndcg@k -> 0.17926070590589915, clicks_cdf -> 42933.28571428572, num_users_with_fy_clicks -> 3646201.285714286, recall@k -> 0.3912459735184172, avg_scroll_depth -> 82.71419130081183, views_cdf -> 45920.857142857145)</td><td>2025-02-03</td><td>2025-02-09</td><td>2025-02-03T17:35:54.835102+05:30</td><td>2025-02-09T17:35:54.835102+05:30</td></tr></tbody></table></div>"
      ]
     },
     "metadata": {
      "application/vnd.databricks.v1+output": {
       "addedWidgets": {},
       "aggData": [],
       "aggError": "",
       "aggOverflow": false,
       "aggSchema": [],
       "aggSeriesLimitReached": false,
       "aggType": "",
       "arguments": {},
       "columnCustomDisplayInfos": {},
       "data": [
        [
         "FY < 22OD",
         {
          "avg_scroll_depth": "82.71419130081183",
          "clicks_cdf": "42933.28571428572",
          "ndcg@k": "0.17926070590589915",
          "num_users_with_fy_clicks": "3646201.285714286",
          "recall@k": "0.3912459735184172",
          "views_cdf": "45920.857142857145"
         },
         "2025-02-03",
         "2025-02-09",
         "2025-02-03T17:35:54.835102+05:30",
         "2025-02-09T17:35:54.835102+05:30"
        ]
       ],
       "datasetInfos": [],
       "dbfsResultPath": null,
       "isJsonSchema": true,
       "metadata": {},
       "overflow": false,
       "plotOptions": {
        "customPlotOptions": {},
        "displayType": "table",
        "pivotAggregation": null,
        "pivotColumns": null,
        "xColumns": null,
        "yColumns": null
       },
       "removedWidgets": [],
       "schema": [
        {
         "metadata": "{}",
         "name": "real_estate",
         "type": "\"string\""
        },
        {
         "metadata": "{}",
         "name": "metrics_dict",
         "type": "{\"type\":\"map\",\"keyType\":\"string\",\"valueType\":\"string\",\"valueContainsNull\":true}"
        },
        {
         "metadata": "{}",
         "name": "start_date",
         "type": "\"string\""
        },
        {
         "metadata": "{}",
         "name": "end_date",
         "type": "\"string\""
        },
        {
         "metadata": "{}",
         "name": "start_datetime",
         "type": "\"timestamp\""
        },
        {
         "metadata": "{}",
         "name": "end_datetime",
         "type": "\"timestamp\""
        }
       ],
       "type": "table"
      }
     },
     "output_type": "display_data"
    }
   ],
   "source": [
    "metrics2 = dict()\n",
    "metrics2[\"clicks_cdf\"] = clicks_cdf_avg\n",
    "metrics2[\"views_cdf\"] = views_cdf_avg\n",
    "metrics2[\"avg_scroll_depth\"] = sd\n",
    "metrics2[\"perct_users_with_fy_clicks\"] = perct_users_with_fy_clicks\n",
    "metrics2[f\"ndcg@k\"] = ndcg\n",
    "metrics2[f\"recall@k\"] = recall\n",
    "# metrics2[\"k\"] = k\n",
    "\n",
    "metrics2 = {k: str(v) for k, v in metrics2.items()}\n",
    "\n",
    "# COMMAND ----------\n",
    "\n",
    "table_schema = StructType([\n",
    "    StructField(\"real_estate\", StringType(), False),\n",
    "    StructField(\"metrics_dict\", MapType(StringType(), StringType()), False),\n",
    "    StructField(\"start_date\", StringType(), False),\n",
    "    StructField(\"end_date\", StringType(), False),\n",
    "    StructField(\"start_datetime\", TimestampType(), False),\n",
    "    StructField(\"end_datetime\", TimestampType(), False),\n",
    "    ])\n",
    "df2 = spark.createDataFrame([['FY < 22OD', metrics2, start_date, end_date, start_datetime, end_datetime]], table_schema)\n",
    "\n",
    "df2.display()\n",
    "\n",
    "# df.write.mode(\"append\").saveAsTable(\"ds_silver_exp.prod_kaizen_re_metrics_full\")"
   ]
  },
  {
   "cell_type": "markdown",
   "metadata": {
    "application/vnd.databricks.v1+cell": {
     "cellMetadata": {
      "byteLimit": 2048000,
      "rowLimit": 10000
     },
     "inputWidgets": {},
     "nuid": "efbbed4a-2eaa-4f67-bb32-767c2d3a8c2b",
     "showTitle": false,
     "tableResultSettingsMap": {},
     "title": ""
    }
   },
   "source": [
    "# 0-1 FY Feed"
   ]
  },
  {
   "cell_type": "markdown",
   "metadata": {
    "application/vnd.databricks.v1+cell": {
     "cellMetadata": {
      "byteLimit": 2048000,
      "rowLimit": 10000
     },
     "inputWidgets": {},
     "nuid": "854df433-19c5-48c3-9753-eb706e2ede84",
     "showTitle": false,
     "tableResultSettingsMap": {},
     "title": ""
    }
   },
   "source": [
    "## Click nDCG @ K"
   ]
  },
  {
   "cell_type": "code",
   "execution_count": 0,
   "metadata": {
    "application/vnd.databricks.v1+cell": {
     "cellMetadata": {
      "byteLimit": 2048000,
      "rowLimit": 10000
     },
     "inputWidgets": {},
     "nuid": "4e5f7a73-f185-44dd-89eb-a466cb805b64",
     "showTitle": false,
     "tableResultSettingsMap": {},
     "title": ""
    }
   },
   "outputs": [
    {
     "output_type": "stream",
     "name": "stderr",
     "output_type": "stream",
     "text": [
      "/databricks/spark/python/pyspark/sql/context.py:165: FutureWarning: Deprecated in 3.0.0. Use SparkSession.builder.getOrCreate() instead.\n  warnings.warn(\n"
     ]
    },
    {
     "output_type": "stream",
     "name": "stdout",
     "output_type": "stream",
     "text": [
      "recall: 0.406491456731617\nndcg: 0.19067172610388716\n"
     ]
    }
   ],
   "source": [
    "ans = ranking_metrics_df.join(od_data, 'user_id', 'leftanti') \\\n",
    "        .select(\"preds\", \"labels\") \\\n",
    "        .rdd\n",
    "metrics = RankingMetrics(ans)\n",
    "\n",
    "recall = metrics.recallAt(20)\n",
    "print(\"recall:\", recall)\n",
    "\n",
    "ndcg = metrics.ndcgAt(20)\n",
    "print(\"ndcg:\", ndcg)"
   ]
  },
  {
   "cell_type": "markdown",
   "metadata": {
    "application/vnd.databricks.v1+cell": {
     "cellMetadata": {},
     "inputWidgets": {},
     "nuid": "18f760ee-6d56-40a1-8039-86e22cdcd65f",
     "showTitle": false,
     "tableResultSettingsMap": {},
     "title": ""
    }
   },
   "source": [
    "## scroll depth"
   ]
  },
  {
   "cell_type": "code",
   "execution_count": 0,
   "metadata": {
    "application/vnd.databricks.v1+cell": {
     "cellMetadata": {
      "byteLimit": 2048000,
      "rowLimit": 10000
     },
     "inputWidgets": {},
     "nuid": "47f61e8c-4272-4652-ad26-5525f4ba2bed",
     "showTitle": false,
     "tableResultSettingsMap": {},
     "title": ""
    }
   },
   "outputs": [
    {
     "output_type": "stream",
     "name": "stdout",
     "output_type": "stream",
     "text": [
      "scroll_depth: 79.51170923536905\n"
     ]
    }
   ],
   "source": [
    "scroll_depth = scroll_depth_raw.join(od_data, on=\"user_id\", how=\"leftanti\").drop(\"od\")\n",
    "scroll_depth = scroll_depth.select(F.avg('scroll_depth').alias('avg_scroll_depth'))\n",
    "sd = scroll_depth.select(\"avg_scroll_depth\").collect()[0][0]\n",
    "print(\"scroll_depth:\", sd)"
   ]
  },
  {
   "cell_type": "markdown",
   "metadata": {
    "application/vnd.databricks.v1+cell": {
     "cellMetadata": {
      "byteLimit": 2048000,
      "rowLimit": 10000
     },
     "inputWidgets": {},
     "nuid": "0388cbd5-e895-4580-ad4d-488d3560c765",
     "showTitle": false,
     "tableResultSettingsMap": {},
     "title": ""
    }
   },
   "source": [
    "## View weighted price"
   ]
  },
  {
   "cell_type": "code",
   "execution_count": 0,
   "metadata": {
    "application/vnd.databricks.v1+cell": {
     "cellMetadata": {
      "byteLimit": 2048000,
      "rowLimit": 10000
     },
     "inputWidgets": {},
     "nuid": "35bfe0c2-cb02-44ac-9061-31dfc7a8bcc9",
     "showTitle": false,
     "tableResultSettingsMap": {},
     "title": ""
    }
   },
   "outputs": [],
   "source": [
    "vwp = views_cdf_data.join(od_data, on=\"user_id\", how=\"leftanti\") \\\n",
    "                            .join(catalog_price, ['date', 'catalog_id'], 'inner') \\\n",
    "                            .withColumn('vwp', F.expr('price*views')) \\\n",
    "                            .groupBy('date') \\\n",
    "                            .agg((F.sum('vwp')/F.sum('views')).alias('vwp')) \\\n",
    "                            .select(F.avg('vwp')).collect()[0][0]\n",
    "\n",
    "print('vwp:', vwp)"
   ]
  },
  {
   "cell_type": "markdown",
   "metadata": {
    "application/vnd.databricks.v1+cell": {
     "cellMetadata": {
      "byteLimit": 2048000,
      "rowLimit": 10000
     },
     "inputWidgets": {},
     "nuid": "f1aa770a-3e5d-45cf-91c2-cfa589eb6286",
     "showTitle": false,
     "tableResultSettingsMap": {},
     "title": ""
    }
   },
   "source": [
    "## 80 VC Clicks (Clicks CDF)"
   ]
  },
  {
   "cell_type": "code",
   "execution_count": 0,
   "metadata": {
    "application/vnd.databricks.v1+cell": {
     "cellMetadata": {
      "byteLimit": 2048000,
      "rowLimit": 10000
     },
     "inputWidgets": {},
     "nuid": "fcf160f3-aa38-455f-a8b3-c6afb7181b1b",
     "showTitle": false,
     "tableResultSettingsMap": {},
     "title": ""
    }
   },
   "outputs": [
    {
     "output_type": "stream",
     "name": "stdout",
     "output_type": "stream",
     "text": [
      "clicks_cdf_avg: 29611.0\n"
     ]
    }
   ],
   "source": [
    "# Perform inner join on clicks_data and od_data on user_id\n",
    "clicks_data = clicks_cdf_data.join(od_data, on=\"user_id\", how=\"leftanti\")\n",
    "\n",
    "# Group by user_id and take sum of clicks\n",
    "clicks_data = clicks_data.groupBy(\"date\", \"catalog_id\").agg(F.sum(\"clicks\").alias(\"clicks\"))\n",
    "\n",
    "w = Window.partitionBy(\"date\").orderBy(F.col(\"clicks\").desc()).rowsBetween(Window.unboundedPreceding, Window.currentRow)\n",
    "\n",
    "clicks_data = clicks_data.withColumn(\"cf_sum\", F.sum(\"clicks\").over(w))\n",
    "\n",
    "total_clicks = clicks_data.groupBy('date') \\\n",
    "                        .agg(F.sum(\"clicks\").alias('total_clicks'))\n",
    "\n",
    "clicks_data = clicks_data.join(total_clicks, on=\"date\", how=\"inner\") \\\n",
    "                    .withColumn(\"cf_perc\", F.col(\"cf_sum\")/F.col(\"total_clicks\"))\n",
    "\n",
    "clicks_cdf = clicks_data.filter(\"cf_perc <= 0.8\") \\\n",
    "                .groupBy(\"date\") \\\n",
    "                .agg(F.count('catalog_id').alias('clicks_cdf'))\n",
    "\n",
    "clicks_cdf_avg = clicks_cdf.agg(F.avg('clicks_cdf').alias('avg_clicks_cdf')).collect()[0][0]\n",
    "\n",
    "print(\"clicks_cdf_avg:\", clicks_cdf_avg)"
   ]
  },
  {
   "cell_type": "markdown",
   "metadata": {
    "application/vnd.databricks.v1+cell": {
     "cellMetadata": {
      "byteLimit": 2048000,
      "rowLimit": 10000
     },
     "inputWidgets": {},
     "nuid": "5be54152-aac6-4265-8707-da85897b6c78",
     "showTitle": false,
     "tableResultSettingsMap": {},
     "title": ""
    }
   },
   "source": [
    "## 80 VC Views (Views CDF)\n"
   ]
  },
  {
   "cell_type": "code",
   "execution_count": 0,
   "metadata": {
    "application/vnd.databricks.v1+cell": {
     "cellMetadata": {
      "byteLimit": 2048000,
      "rowLimit": 10000
     },
     "inputWidgets": {},
     "nuid": "9c1254d4-5b7d-4faa-8066-0add03028efe",
     "showTitle": false,
     "tableResultSettingsMap": {},
     "title": ""
    }
   },
   "outputs": [
    {
     "output_type": "stream",
     "name": "stdout",
     "output_type": "stream",
     "text": [
      "views_cdf_avg: 27707.0\n"
     ]
    }
   ],
   "source": [
    "views_data = views_cdf_data.join(od_data, on=\"user_id\", how=\"leftanti\")\n",
    "\n",
    "# Group by user_id and take sum of views\n",
    "views_data = views_data.groupBy(\"date\", \"catalog_id\").agg(F.sum(\"views\").alias(\"views\"))\n",
    "\n",
    "w = Window.partitionBy(\"date\").orderBy(F.col(\"views\").desc()).rowsBetween(Window.unboundedPreceding, Window.currentRow)\n",
    "\n",
    "views_data = views_data.withColumn(\"cf_sum\", F.sum(\"views\").over(w))\n",
    "\n",
    "total_views = views_data.groupBy('date') \\\n",
    "                        .agg(F.sum(\"views\").alias('total_views'))\n",
    "\n",
    "views_data = views_data.join(total_views, on=\"date\", how=\"inner\") \\\n",
    "                    .withColumn(\"cf_perc\", F.col(\"cf_sum\")/F.col(\"total_views\"))\n",
    "\n",
    "views_cdf = views_data.filter(\"cf_perc <= 0.8\") \\\n",
    "                .groupBy(\"date\") \\\n",
    "                .agg(F.count('catalog_id').alias('views_cdf'))\n",
    "\n",
    "views_cdf_avg = views_cdf.agg(F.avg('views_cdf').alias('avg_views_cdf')).collect()[0][0]\n",
    "\n",
    "print(\"views_cdf_avg:\", views_cdf_avg)"
   ]
  },
  {
   "cell_type": "markdown",
   "metadata": {
    "application/vnd.databricks.v1+cell": {
     "cellMetadata": {},
     "inputWidgets": {},
     "nuid": "f41b3e4e-27f7-4dec-ae52-cdba030462cb",
     "showTitle": false,
     "tableResultSettingsMap": {},
     "title": ""
    }
   },
   "source": [
    "## % of Users with atleast 1 FY Clicks\n"
   ]
  },
  {
   "cell_type": "code",
   "execution_count": 0,
   "metadata": {
    "application/vnd.databricks.v1+cell": {
     "cellMetadata": {},
     "inputWidgets": {},
     "nuid": "4a0784c1-cc81-46e9-a55a-10630bb2a950",
     "showTitle": false,
     "tableResultSettingsMap": {},
     "title": ""
    }
   },
   "outputs": [],
   "source": [
    "clicks_data = clicks_cdf_data.join(od_data, on=\"user_id\", how=\"leftanti\")\n",
    "app_open_data = app_open_raw_data.join(od_data, on=\"user_id\", how=\"leftanti\")\n",
    "\n",
    "num_users_with_fy_clicks = clicks_data.groupBy(\"date\").agg(F.countDistinct(\"user_id\").alias(\"num_users_with_fy_clicks\"))\n",
    "\n",
    "dau = app_open_data.groupBy(\"date\").agg(F.countDistinct(\"user_id\").alias(\"dau\"))\n",
    "\n",
    "perct_users_with_fy_clicks = num_users_with_fy_clicks.join(dau, ['date'], 'inner') \\\n",
    "                                               .withColumn(\"perct_users_with_fy_clicks\", F.col(\"num_users_with_fy_clicks\")/F.col(\"dau\"))\n",
    "\n",
    "# perct_users_with_fy_clicks.display()\n",
    "\n",
    "perct_users_with_fy_clicks = perct_users_with_fy_clicks.agg(F.avg(\"perct_users_with_fy_clicks\").alias(\"perct_users_with_fy_clicks\")).collect()[0][0]\n",
    "\n",
    "print(\"perct_users_with_fy_clicks:\" ,perct_users_with_fy_clicks)"
   ]
  },
  {
   "cell_type": "code",
   "execution_count": 0,
   "metadata": {
    "application/vnd.databricks.v1+cell": {
     "cellMetadata": {
      "byteLimit": 2048000,
      "rowLimit": 10000
     },
     "inputWidgets": {},
     "nuid": "250e5592-216b-4f3a-b89d-a0f674fd3b02",
     "showTitle": false,
     "tableResultSettingsMap": {},
     "title": ""
    }
   },
   "outputs": [
    {
     "output_type": "display_data",
     "data": {
      "text/html": [
       "<style scoped>\n",
       "  .table-result-container {\n",
       "    max-height: 300px;\n",
       "    overflow: auto;\n",
       "  }\n",
       "  table, th, td {\n",
       "    border: 1px solid black;\n",
       "    border-collapse: collapse;\n",
       "  }\n",
       "  th, td {\n",
       "    padding: 5px;\n",
       "  }\n",
       "  th {\n",
       "    text-align: left;\n",
       "  }\n",
       "</style><div class='table-result-container'><table class='table-result'><thead style='background-color: white'><tr><th>real_estate</th><th>user_cohort</th><th>metrics_dict</th><th>start_date</th><th>end_date</th><th>start_datetime</th><th>end_datetime</th></tr></thead><tbody><tr><td>main</td><td>0-1 FY Feed</td><td>Map(clicks_cdf -> 29611.0, recall@k -> 0.406491456731617, ndcg@k -> 0.19067172610388716, views_cdf -> 27707.0)</td><td>2025-02-10</td><td>2025-02-16</td><td>2025-02-10T12:00:45.703077+05:30</td><td>2025-02-16T12:00:45.703077+05:30</td></tr></tbody></table></div>"
      ]
     },
     "metadata": {
      "application/vnd.databricks.v1+output": {
       "addedWidgets": {},
       "aggData": [],
       "aggError": "",
       "aggOverflow": false,
       "aggSchema": [],
       "aggSeriesLimitReached": false,
       "aggType": "",
       "arguments": {},
       "columnCustomDisplayInfos": {},
       "data": [
        [
         "main",
         "0-1 FY Feed",
         {
          "clicks_cdf": "29611.0",
          "ndcg@k": "0.19067172610388716",
          "recall@k": "0.406491456731617",
          "views_cdf": "27707.0"
         },
         "2025-02-10",
         "2025-02-16",
         "2025-02-10T12:00:45.703077+05:30",
         "2025-02-16T12:00:45.703077+05:30"
        ]
       ],
       "datasetInfos": [],
       "dbfsResultPath": null,
       "isJsonSchema": true,
       "metadata": {},
       "overflow": false,
       "plotOptions": {
        "customPlotOptions": {},
        "displayType": "table",
        "pivotAggregation": null,
        "pivotColumns": null,
        "xColumns": null,
        "yColumns": null
       },
       "removedWidgets": [],
       "schema": [
        {
         "metadata": "{}",
         "name": "real_estate",
         "type": "\"string\""
        },
        {
         "metadata": "{}",
         "name": "user_cohort",
         "type": "\"string\""
        },
        {
         "metadata": "{}",
         "name": "metrics_dict",
         "type": "{\"type\":\"map\",\"keyType\":\"string\",\"valueType\":\"string\",\"valueContainsNull\":true}"
        },
        {
         "metadata": "{}",
         "name": "start_date",
         "type": "\"string\""
        },
        {
         "metadata": "{}",
         "name": "end_date",
         "type": "\"string\""
        },
        {
         "metadata": "{}",
         "name": "start_datetime",
         "type": "\"timestamp\""
        },
        {
         "metadata": "{}",
         "name": "end_datetime",
         "type": "\"timestamp\""
        }
       ],
       "type": "table"
      }
     },
     "output_type": "display_data"
    }
   ],
   "source": [
    "metrics3 = dict()\n",
    "metrics3[\"clicks_cdf\"] = clicks_cdf_avg\n",
    "metrics3[\"views_cdf\"] = views_cdf_avg\n",
    "metrics3[f\"ndcg@k\"] = ndcg\n",
    "metrics3[f\"recall@k\"] = recall\n",
    "metrics3[\"vwp\"] = vwp\n",
    "metrics3[\"perct_users_with_fy_clicks\"] = perct_users_with_fy_clicks\n",
    "metrics3 = {k: str(v) for k, v in metrics3.items()}\n",
    "\n",
    "# COMMAND ----------\n",
    "\n",
    "table_schema = StructType([\n",
    "    StructField(\"real_estate\", StringType(), False),\n",
    "    StructField(\"user_cohort\", StringType(), False),\n",
    "    StructField(\"metrics_dict\", MapType(StringType(), StringType()), False),\n",
    "    StructField(\"start_date\", StringType(), False),\n",
    "    StructField(\"end_date\", StringType(), False),\n",
    "    StructField(\"start_datetime\", TimestampType(), False),\n",
    "    StructField(\"end_datetime\", TimestampType(), False),\n",
    "    ])\n",
    "df3 = spark.createDataFrame([['main', \"0-1 FY Feed\", metrics3, start_date, end_date, start_datetime, end_datetime]], table_schema)\n",
    "\n",
    "df3.display()\n",
    "\n",
    "# df.write.mode(\"append\").saveAsTable(\"ds_silver_exp.prod_kaizen_re_metrics_full\")"
   ]
  }
 ],
 "metadata": {
  "application/vnd.databricks.v1+notebook": {
   "computePreferences": null,
   "dashboards": [],
   "environmentMetadata": {
    "base_environment": "",
    "environment_version": "2"
   },
   "inputWidgetPreferences": null,
   "language": "python",
   "notebookMetadata": {
    "mostRecentlyExecutedCommandWithImplicitDF": {
     "commandId": 6854612064200918,
     "dataframes": [
      "_sqldf"
     ]
    },
    "pythonIndentUnit": 4
   },
   "notebookName": "fy-kaizan",
   "widgets": {}
  },
  "language_info": {
   "name": "python"
  }
 },
 "nbformat": 4,
 "nbformat_minor": 0
}